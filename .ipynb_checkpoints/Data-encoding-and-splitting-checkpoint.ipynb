{
 "cells": [
  {
   "cell_type": "code",
   "execution_count": 1,
   "id": "81f6bf13",
   "metadata": {},
   "outputs": [],
   "source": [
    "import numpy as np\n",
    "import pandas as pd\n",
    "import seaborn as sb\n",
    "import matplotlib.pyplot as plt\n",
    "sb.set()\n",
    "from numpy import asarray\n",
    "from sklearn.preprocessing import OneHotEncoder\n",
    "\n",
    "customerData = pd.read_csv('dataset\\customerData_Clean.csv')"
   ]
  },
  {
   "cell_type": "code",
   "execution_count": 2,
   "id": "06fe47a7",
   "metadata": {
    "scrolled": true
   },
   "outputs": [
    {
     "name": "stdout",
     "output_type": "stream",
     "text": [
      "Column of numerical data: ['Year_Birth', 'Income', 'Recency', 'MntWines', 'MntFruits', 'MntMeatProducts', 'MntFishProducts', 'MntSweetProducts', 'MntGoldProds', 'NumDealsPurchases', 'NumWebPurchases', 'NumCatalogPurchases', 'NumStorePurchases', 'NumWebVisitsMonth', 'MntGroceryProducts', 'TotalPurchase']\n",
      "\n",
      "Column of categorical data: ['Education', 'Marital_Status', 'YearRange', 'AcceptedCmp3', 'AcceptedCmp4', 'AcceptedCmp5', 'AcceptedCmp1', 'AcceptedCmp2', 'Complain', 'Response', 'Kidhome', 'Teenhome']\n"
     ]
    }
   ],
   "source": [
    "colOfNum = ['Year_Birth', 'Income', 'Recency', 'MntWines', 'MntFruits', 'MntMeatProducts', 'MntFishProducts', 'MntSweetProducts', 'MntGoldProds', 'NumDealsPurchases', 'NumWebPurchases', 'NumCatalogPurchases', 'NumStorePurchases', 'NumWebVisitsMonth', 'MntGroceryProducts', 'TotalPurchase']\n",
    "colOfCat = ['Education', 'Marital_Status', 'YearRange', 'AcceptedCmp3', 'AcceptedCmp4', 'AcceptedCmp5', 'AcceptedCmp1', 'AcceptedCmp2', 'Complain', 'Response', 'Kidhome', 'Teenhome']\n",
    "print(\"Column of numerical data:\",colOfNum)\n",
    "print()\n",
    "print(\"Column of categorical data:\",colOfCat)"
   ]
  },
  {
   "cell_type": "markdown",
   "id": "e795c5c3",
   "metadata": {},
   "source": [
    "### One Hot Encoding of Categorical Variables"
   ]
  },
  {
   "cell_type": "code",
   "execution_count": 15,
   "id": "d6d8448c",
   "metadata": {},
   "outputs": [
    {
     "data": {
      "text/plain": [
       "count           2208\n",
       "unique             5\n",
       "top       Graduation\n",
       "freq            1113\n",
       "Name: Education, dtype: object"
      ]
     },
     "execution_count": 15,
     "metadata": {},
     "output_type": "execute_result"
    }
   ],
   "source": [
    "customerData[\"Education\"].describe()"
   ]
  },
  {
   "cell_type": "code",
   "execution_count": 16,
   "id": "b1b356b5",
   "metadata": {},
   "outputs": [
    {
     "name": "stdout",
     "output_type": "stream",
     "text": [
      "<class 'pandas.core.frame.DataFrame'>\n",
      "RangeIndex: 2208 entries, 0 to 2207\n",
      "Data columns (total 36 columns):\n",
      " #   Column                   Non-Null Count  Dtype  \n",
      "---  ------                   --------------  -----  \n",
      " 0   Education_2n Cycle       2208 non-null   float64\n",
      " 1   Education_Basic          2208 non-null   float64\n",
      " 2   Education_Graduation     2208 non-null   float64\n",
      " 3   Education_Master         2208 non-null   float64\n",
      " 4   Education_PhD            2208 non-null   float64\n",
      " 5   Marital_Status_Divorced  2208 non-null   float64\n",
      " 6   Marital_Status_Married   2208 non-null   float64\n",
      " 7   Marital_Status_Single    2208 non-null   float64\n",
      " 8   YearRange_1890           2208 non-null   float64\n",
      " 9   YearRange_1900           2208 non-null   float64\n",
      " 10  YearRange_1940           2208 non-null   float64\n",
      " 11  YearRange_1950           2208 non-null   float64\n",
      " 12  YearRange_1960           2208 non-null   float64\n",
      " 13  YearRange_1970           2208 non-null   float64\n",
      " 14  YearRange_1980           2208 non-null   float64\n",
      " 15  YearRange_1990           2208 non-null   float64\n",
      " 16  AcceptedCmp3_0           2208 non-null   float64\n",
      " 17  AcceptedCmp3_1           2208 non-null   float64\n",
      " 18  AcceptedCmp4_0           2208 non-null   float64\n",
      " 19  AcceptedCmp4_1           2208 non-null   float64\n",
      " 20  AcceptedCmp5_0           2208 non-null   float64\n",
      " 21  AcceptedCmp5_1           2208 non-null   float64\n",
      " 22  AcceptedCmp1_0           2208 non-null   float64\n",
      " 23  AcceptedCmp1_1           2208 non-null   float64\n",
      " 24  AcceptedCmp2_0           2208 non-null   float64\n",
      " 25  AcceptedCmp2_1           2208 non-null   float64\n",
      " 26  Complain_0               2208 non-null   float64\n",
      " 27  Complain_1               2208 non-null   float64\n",
      " 28  Response_0               2208 non-null   float64\n",
      " 29  Response_1               2208 non-null   float64\n",
      " 30  Kidhome_0                2208 non-null   float64\n",
      " 31  Kidhome_1                2208 non-null   float64\n",
      " 32  Kidhome_2                2208 non-null   float64\n",
      " 33  Teenhome_0               2208 non-null   float64\n",
      " 34  Teenhome_1               2208 non-null   float64\n",
      " 35  Teenhome_2               2208 non-null   float64\n",
      "dtypes: float64(36)\n",
      "memory usage: 621.1 KB\n"
     ]
    }
   ],
   "source": [
    "# Import the encoder from sklearn\n",
    "from sklearn.preprocessing import OneHotEncoder\n",
    "ohe = OneHotEncoder()\n",
    "\n",
    "# OneHotEncoding of categorical predictors (not the response)\n",
    "customerData_cat = customerData[colOfCat]\n",
    "ohe.fit(customerData_cat)\n",
    "customerData_cat_ohe = pd.DataFrame(ohe.transform(customerData_cat).toarray(), \n",
    "                                  columns=ohe.get_feature_names_out(customerData_cat.columns))\n",
    "\n",
    "# Check the encoded variables\n",
    "customerData_cat_ohe.info()"
   ]
  },
  {
   "cell_type": "code",
   "execution_count": 17,
   "id": "2e67ff0b",
   "metadata": {},
   "outputs": [
    {
     "name": "stdout",
     "output_type": "stream",
     "text": [
      "count           2208\n",
      "unique             5\n",
      "top       Graduation\n",
      "freq            1113\n",
      "Name: Education, dtype: object\n",
      "count    2208.000000\n",
      "mean        0.091033\n",
      "std         0.287721\n",
      "min         0.000000\n",
      "25%         0.000000\n",
      "50%         0.000000\n",
      "75%         0.000000\n",
      "max         1.000000\n",
      "Name: Education_2n Cycle, dtype: float64\n"
     ]
    }
   ],
   "source": [
    "print(customerData[\"Education\"].describe())\n",
    "print(customerData_cat_ohe[\"Education_2n Cycle\"].describe())"
   ]
  },
  {
   "cell_type": "code",
   "execution_count": 18,
   "id": "da6751e5",
   "metadata": {},
   "outputs": [
    {
     "name": "stdout",
     "output_type": "stream",
     "text": [
      "<class 'pandas.core.frame.DataFrame'>\n",
      "RangeIndex: 2208 entries, 0 to 2207\n",
      "Data columns (total 52 columns):\n",
      " #   Column                   Non-Null Count  Dtype  \n",
      "---  ------                   --------------  -----  \n",
      " 0   Year_Birth               2208 non-null   int64  \n",
      " 1   Income                   2208 non-null   float64\n",
      " 2   Recency                  2208 non-null   int64  \n",
      " 3   MntWines                 2208 non-null   int64  \n",
      " 4   MntFruits                2208 non-null   int64  \n",
      " 5   MntMeatProducts          2208 non-null   int64  \n",
      " 6   MntFishProducts          2208 non-null   int64  \n",
      " 7   MntSweetProducts         2208 non-null   int64  \n",
      " 8   MntGoldProds             2208 non-null   int64  \n",
      " 9   NumDealsPurchases        2208 non-null   int64  \n",
      " 10  NumWebPurchases          2208 non-null   int64  \n",
      " 11  NumCatalogPurchases      2208 non-null   int64  \n",
      " 12  NumStorePurchases        2208 non-null   int64  \n",
      " 13  NumWebVisitsMonth        2208 non-null   int64  \n",
      " 14  MntGroceryProducts       2208 non-null   int64  \n",
      " 15  TotalPurchase            2208 non-null   int64  \n",
      " 16  Education_2n Cycle       2208 non-null   float64\n",
      " 17  Education_Basic          2208 non-null   float64\n",
      " 18  Education_Graduation     2208 non-null   float64\n",
      " 19  Education_Master         2208 non-null   float64\n",
      " 20  Education_PhD            2208 non-null   float64\n",
      " 21  Marital_Status_Divorced  2208 non-null   float64\n",
      " 22  Marital_Status_Married   2208 non-null   float64\n",
      " 23  Marital_Status_Single    2208 non-null   float64\n",
      " 24  YearRange_1890           2208 non-null   float64\n",
      " 25  YearRange_1900           2208 non-null   float64\n",
      " 26  YearRange_1940           2208 non-null   float64\n",
      " 27  YearRange_1950           2208 non-null   float64\n",
      " 28  YearRange_1960           2208 non-null   float64\n",
      " 29  YearRange_1970           2208 non-null   float64\n",
      " 30  YearRange_1980           2208 non-null   float64\n",
      " 31  YearRange_1990           2208 non-null   float64\n",
      " 32  AcceptedCmp3_0           2208 non-null   float64\n",
      " 33  AcceptedCmp3_1           2208 non-null   float64\n",
      " 34  AcceptedCmp4_0           2208 non-null   float64\n",
      " 35  AcceptedCmp4_1           2208 non-null   float64\n",
      " 36  AcceptedCmp5_0           2208 non-null   float64\n",
      " 37  AcceptedCmp5_1           2208 non-null   float64\n",
      " 38  AcceptedCmp1_0           2208 non-null   float64\n",
      " 39  AcceptedCmp1_1           2208 non-null   float64\n",
      " 40  AcceptedCmp2_0           2208 non-null   float64\n",
      " 41  AcceptedCmp2_1           2208 non-null   float64\n",
      " 42  Complain_0               2208 non-null   float64\n",
      " 43  Complain_1               2208 non-null   float64\n",
      " 44  Response_0               2208 non-null   float64\n",
      " 45  Response_1               2208 non-null   float64\n",
      " 46  Kidhome_0                2208 non-null   float64\n",
      " 47  Kidhome_1                2208 non-null   float64\n",
      " 48  Kidhome_2                2208 non-null   float64\n",
      " 49  Teenhome_0               2208 non-null   float64\n",
      " 50  Teenhome_1               2208 non-null   float64\n",
      " 51  Teenhome_2               2208 non-null   float64\n",
      "dtypes: float64(37), int64(15)\n",
      "memory usage: 897.1 KB\n"
     ]
    }
   ],
   "source": [
    "customerData_num = customerData[colOfNum]\n",
    "customerData_ohe  = pd.concat([customerData_num, customerData_cat_ohe], \n",
    "                           sort = False, axis = 1).reindex(index=customerData_num.index)\n",
    "\n",
    "# Check the final dataframe\n",
    "customerData_ohe.info()"
   ]
  },
  {
   "cell_type": "code",
   "execution_count": null,
   "id": "730d7a15",
   "metadata": {},
   "outputs": [],
   "source": []
  },
  {
   "cell_type": "markdown",
   "id": "fba157cf",
   "metadata": {},
   "source": [
    "### Splitting the Train and Test sets for all variables"
   ]
  },
  {
   "cell_type": "code",
   "execution_count": 19,
   "id": "9f854f1c",
   "metadata": {},
   "outputs": [
    {
     "ename": "ValueError",
     "evalue": "not enough values to unpack (expected 16, got 12)",
     "output_type": "error",
     "traceback": [
      "\u001b[1;31m---------------------------------------------------------------------------\u001b[0m",
      "\u001b[1;31mValueError\u001b[0m                                Traceback (most recent call last)",
      "\u001b[1;32m~\\AppData\\Local\\Temp/ipykernel_6444/2174534904.py\u001b[0m in \u001b[0;36m<module>\u001b[1;34m\u001b[0m\n\u001b[0;32m      1\u001b[0m \u001b[1;32mfrom\u001b[0m \u001b[0msklearn\u001b[0m\u001b[1;33m.\u001b[0m\u001b[0mmodel_selection\u001b[0m \u001b[1;32mimport\u001b[0m \u001b[0mtrain_test_split\u001b[0m\u001b[1;33m\u001b[0m\u001b[1;33m\u001b[0m\u001b[0m\n\u001b[1;32m----> 2\u001b[1;33m \u001b[0ma1\u001b[0m\u001b[1;33m,\u001b[0m\u001b[0ma2\u001b[0m\u001b[1;33m,\u001b[0m\u001b[0ma3\u001b[0m\u001b[1;33m,\u001b[0m\u001b[0ma4\u001b[0m\u001b[1;33m,\u001b[0m\u001b[0ma5\u001b[0m\u001b[1;33m,\u001b[0m\u001b[0ma6\u001b[0m\u001b[1;33m,\u001b[0m\u001b[0ma7\u001b[0m\u001b[1;33m,\u001b[0m\u001b[0ma8\u001b[0m\u001b[1;33m,\u001b[0m\u001b[0ma9\u001b[0m\u001b[1;33m,\u001b[0m\u001b[0ma10\u001b[0m\u001b[1;33m,\u001b[0m\u001b[0ma11\u001b[0m\u001b[1;33m,\u001b[0m\u001b[0ma12\u001b[0m\u001b[1;33m,\u001b[0m\u001b[0ma13\u001b[0m\u001b[1;33m,\u001b[0m\u001b[0ma14\u001b[0m\u001b[1;33m,\u001b[0m\u001b[0ma15\u001b[0m\u001b[1;33m,\u001b[0m\u001b[0ma16\u001b[0m \u001b[1;33m=\u001b[0m\u001b[0;31m\\\u001b[0m\u001b[1;33m\u001b[0m\u001b[1;33m\u001b[0m\u001b[0m\n\u001b[0m\u001b[0;32m      3\u001b[0m \u001b[1;33m[\u001b[0m\u001b[0mpd\u001b[0m\u001b[1;33m.\u001b[0m\u001b[0mDataFrame\u001b[0m\u001b[1;33m(\u001b[0m\u001b[0mcustomerData\u001b[0m\u001b[1;33m[\u001b[0m\u001b[0mcategories\u001b[0m\u001b[1;33m]\u001b[0m\u001b[1;33m)\u001b[0m \u001b[1;32mfor\u001b[0m \u001b[0mcategories\u001b[0m \u001b[1;32min\u001b[0m \u001b[0mcolOfCat\u001b[0m\u001b[1;33m]\u001b[0m\u001b[1;33m\u001b[0m\u001b[1;33m\u001b[0m\u001b[0m\n\u001b[0;32m      4\u001b[0m \u001b[1;33m\u001b[0m\u001b[0m\n\u001b[0;32m      5\u001b[0m \u001b[0mbirth\u001b[0m\u001b[1;33m,\u001b[0m \u001b[0minc\u001b[0m\u001b[1;33m,\u001b[0m \u001b[0mrec\u001b[0m\u001b[1;33m,\u001b[0m \u001b[0mwine\u001b[0m\u001b[1;33m,\u001b[0m \u001b[0mfruit\u001b[0m\u001b[1;33m,\u001b[0m \u001b[0mmeat\u001b[0m\u001b[1;33m,\u001b[0m \u001b[0mfish\u001b[0m\u001b[1;33m,\u001b[0m \u001b[0msweet\u001b[0m\u001b[1;33m,\u001b[0m \u001b[0mgold\u001b[0m\u001b[1;33m,\u001b[0m \u001b[0mdeals\u001b[0m\u001b[1;33m,\u001b[0m \u001b[0mweb\u001b[0m\u001b[1;33m,\u001b[0m \u001b[0mcat\u001b[0m\u001b[1;33m,\u001b[0m \u001b[0mstore\u001b[0m\u001b[1;33m,\u001b[0m \u001b[0mwebv\u001b[0m\u001b[1;33m,\u001b[0m \u001b[0mgro\u001b[0m\u001b[1;33m,\u001b[0m \u001b[0mtot\u001b[0m  \u001b[1;33m=\u001b[0m\u001b[0;31m\\\u001b[0m\u001b[1;33m\u001b[0m\u001b[1;33m\u001b[0m\u001b[0m\n",
      "\u001b[1;31mValueError\u001b[0m: not enough values to unpack (expected 16, got 12)"
     ]
    }
   ],
   "source": [
    "from sklearn.model_selection import train_test_split\n",
    "a1,a2,a3,a4,a5,a6,a7,a8,a9,a10,a11,a12,a13,a14,a15,a16 =\\\n",
    "[pd.DataFrame(customerData[categories]) for categories in colOfCat]\n",
    "\n",
    "birth, inc, rec, wine, fruit, meat, fish, sweet, gold, deals, web, cat, store, webv, gro, tot  =\\\n",
    "[pd.DataFrame(customerData[categories]) for categories in colOfNum]\n",
    "\n",
    "var_num_list = [birth, inc, rec, wine, fruit, meat, fish, sweet, gold, deals,\\\n",
    "    web, cat, store, webv, gro, tot]\n",
    "\n",
    "huge_list1 = train_test_split(birth, inc, rec, wine, fruit, meat, fish, sweet, gold, deals,\\\n",
    "    web, cat, store, webv, gro, tot,\\\n",
    "    test_size = 0.20, random_state = 1)\n",
    "\n",
    "huge_list2 = train_test_split(edu, ms, yrange, ac3, ac4, ac5, ac1,\\\n",
    "     ac2, com, res, kid, teen,\\\n",
    "    test_size = 0.20, random_state = 1)\n",
    "\n",
    "print(len(huge_list1))\n",
    "print(len(huge_list2))\n",
    "\n",
    "train_num = [huge_list1[i] for i in range(0, len(huge_list1), 2)]\n",
    "test_num = [huge_list1[i] for i in range(1, len(huge_list1), 2)]\n",
    "\n",
    "train_cat = [huge_list2[i] for i in range(0, len(huge_list2), 2)]\n",
    "test_cat = [huge_list2[i] for i in range(1, len(huge_list2), 2)]\n",
    "\n",
    "train = pd.concat(train_num + train_cat, axis = 1)\n",
    "test = pd.concat(test_num + test_cat, axis = 1)\n",
    "\n",
    "train.to_csv('dataset/train_data.csv')  \n",
    "test.to_csv('dataset/test_data.csv')  "
   ]
  },
  {
   "cell_type": "code",
   "execution_count": 20,
   "id": "a63d96e6",
   "metadata": {},
   "outputs": [
    {
     "name": "stdout",
     "output_type": "stream",
     "text": [
      "Index(['Unnamed: 0', 'Year_Birth', 'Education', 'Marital_Status', 'Income',\n",
      "       'Kidhome', 'Teenhome', 'Dt_Customer', 'Recency', 'MntWines',\n",
      "       'MntFruits', 'MntMeatProducts', 'MntFishProducts', 'MntSweetProducts',\n",
      "       'MntGoldProds', 'NumDealsPurchases', 'NumWebPurchases',\n",
      "       'NumCatalogPurchases', 'NumStorePurchases', 'NumWebVisitsMonth',\n",
      "       'AcceptedCmp3', 'AcceptedCmp4', 'AcceptedCmp5', 'AcceptedCmp1',\n",
      "       'AcceptedCmp2', 'Complain', 'Response', 'MntGroceryProducts',\n",
      "       'TotalPurchase', 'YearRange'],\n",
      "      dtype='object')\n",
      "0 "
     ]
    },
    {
     "ename": "NameError",
     "evalue": "name 'dict_list' is not defined",
     "output_type": "error",
     "traceback": [
      "\u001b[1;31m---------------------------------------------------------------------------\u001b[0m",
      "\u001b[1;31mNameError\u001b[0m                                 Traceback (most recent call last)",
      "\u001b[1;32m~\\AppData\\Local\\Temp/ipykernel_6444/1846732899.py\u001b[0m in \u001b[0;36m<module>\u001b[1;34m\u001b[0m\n\u001b[0;32m      7\u001b[0m         \u001b[0mcol\u001b[0m \u001b[1;33m=\u001b[0m \u001b[0mcolOfCat\u001b[0m\u001b[1;33m[\u001b[0m\u001b[0mi\u001b[0m\u001b[1;33m]\u001b[0m\u001b[1;33m\u001b[0m\u001b[1;33m\u001b[0m\u001b[0m\n\u001b[0;32m      8\u001b[0m         \u001b[0mprint\u001b[0m\u001b[1;33m(\u001b[0m\u001b[0mj\u001b[0m\u001b[1;33m,\u001b[0m \u001b[0mend\u001b[0m \u001b[1;33m=\u001b[0m \u001b[1;34m\" \"\u001b[0m\u001b[1;33m)\u001b[0m\u001b[1;33m\u001b[0m\u001b[1;33m\u001b[0m\u001b[0m\n\u001b[1;32m----> 9\u001b[1;33m         \u001b[0mcc\u001b[0m\u001b[1;33m.\u001b[0m\u001b[0mloc\u001b[0m\u001b[1;33m[\u001b[0m\u001b[0mj\u001b[0m\u001b[1;33m,\u001b[0m \u001b[0mcol\u001b[0m\u001b[1;33m]\u001b[0m \u001b[1;33m=\u001b[0m \u001b[0mdict_list\u001b[0m\u001b[1;33m[\u001b[0m\u001b[0mi\u001b[0m\u001b[1;33m]\u001b[0m\u001b[1;33m[\u001b[0m\u001b[0mcol\u001b[0m\u001b[1;33m]\u001b[0m\u001b[1;33m\u001b[0m\u001b[1;33m\u001b[0m\u001b[0m\n\u001b[0m",
      "\u001b[1;31mNameError\u001b[0m: name 'dict_list' is not defined"
     ]
    }
   ],
   "source": [
    "cc = customerData.copy()\n",
    "\n",
    "print(cc.columns)\n",
    "\n",
    "for i in range (len(colOfCat)):\n",
    "    for j in range(len(cc)):\n",
    "        col = colOfCat[i]\n",
    "        print(j, end = \" \")\n",
    "        cc.loc[j, col] = dict_list[i][col]"
   ]
  },
  {
   "cell_type": "code",
   "execution_count": 4,
   "id": "6a63f230",
   "metadata": {},
   "outputs": [
    {
     "name": "stdout",
     "output_type": "stream",
     "text": [
      "<class 'pandas.core.frame.DataFrame'>\n",
      "Int64Index: 2188 entries, 0 to 1093\n",
      "Data columns (total 26 columns):\n",
      " #   Column               Non-Null Count  Dtype  \n",
      "---  ------               --------------  -----  \n",
      " 0   Year_Birth           1094 non-null   float64\n",
      " 1   Education            1094 non-null   object \n",
      " 2   Marital_Status       1094 non-null   object \n",
      " 3   Complain             1094 non-null   float64\n",
      " 4   NumWebVisitsMonth    1094 non-null   float64\n",
      " 5   YearRange            1094 non-null   float64\n",
      " 6   HaveChild            1094 non-null   float64\n",
      " 7   AcceptedCmp          1094 non-null   float64\n",
      " 8   Income               1094 non-null   float64\n",
      " 9   Kidhome              1094 non-null   float64\n",
      " 10  Teenhome             1094 non-null   float64\n",
      " 11  Dt_Customer          1094 non-null   object \n",
      " 12  Recency              1094 non-null   float64\n",
      " 13  MntWines             1094 non-null   float64\n",
      " 14  MntFruits            1094 non-null   float64\n",
      " 15  MntMeatProducts      1094 non-null   float64\n",
      " 16  MntFishProducts      1094 non-null   float64\n",
      " 17  MntSweetProducts     1094 non-null   float64\n",
      " 18  MntGoldProds         1094 non-null   float64\n",
      " 19  NumDealsPurchases    1094 non-null   float64\n",
      " 20  NumWebPurchases      1094 non-null   float64\n",
      " 21  NumCatalogPurchases  1094 non-null   float64\n",
      " 22  NumStorePurchases    1094 non-null   float64\n",
      " 23  MntGroceryProducts   1094 non-null   float64\n",
      " 24  TotalPurchase        1094 non-null   float64\n",
      " 25  TotalChild           1094 non-null   float64\n",
      "dtypes: float64(23), object(3)\n",
      "memory usage: 461.5+ KB\n"
     ]
    }
   ],
   "source": [
    "from sklearn.model_selection import KFold\n",
    "\n",
    "X = pd.DataFrame(customerData[['Year_Birth', 'Education', 'Marital_Status', 'Complain', \n",
    "                                 'NumWebVisitsMonth', 'YearRange', 'HaveChild', 'AcceptedCmp']])\n",
    "Y = pd.DataFrame(customerData[['Income', 'Kidhome', 'Teenhome', 'Dt_Customer', 'Recency', 'MntWines', 'MntFruits',\n",
    "                                  'MntMeatProducts', 'MntFishProducts', 'MntSweetProducts', 'MntGoldProds', \n",
    "                                  'NumDealsPurchases', 'NumWebPurchases', 'NumCatalogPurchases', 'NumStorePurchases',\n",
    "                                 'MntGroceryProducts', 'TotalPurchase', 'TotalChild']])\n",
    "\n",
    "kf = KFold(n_splits=2)\n",
    "\n",
    "for train_index, test_index in kf.split(X, Y):\n",
    "#     print(\"TRAIN:\", train_index) \n",
    "#     print(\"TEST:\", test_index)\n",
    "    X_train, X_test = X.iloc[train_index], X.iloc[test_index]\n",
    "    Y_train, Y_test = Y.iloc[train_index], Y.iloc[test_index]\n",
    "    \n",
    "train_data = pd.concat([X_train, Y_train])\n",
    "test_data = pd.concat([X_test, Y_test])\n",
    "train_data.info()"
   ]
  },
  {
   "cell_type": "code",
   "execution_count": 5,
   "id": "8b93299c",
   "metadata": {},
   "outputs": [
    {
     "name": "stdout",
     "output_type": "stream",
     "text": [
      "<class 'pandas.core.frame.DataFrame'>\n",
      "Int64Index: 2188 entries, 1094 to 2187\n",
      "Data columns (total 26 columns):\n",
      " #   Column               Non-Null Count  Dtype  \n",
      "---  ------               --------------  -----  \n",
      " 0   Year_Birth           1094 non-null   float64\n",
      " 1   Education            1094 non-null   object \n",
      " 2   Marital_Status       1094 non-null   object \n",
      " 3   Complain             1094 non-null   float64\n",
      " 4   NumWebVisitsMonth    1094 non-null   float64\n",
      " 5   YearRange            1094 non-null   float64\n",
      " 6   HaveChild            1094 non-null   float64\n",
      " 7   AcceptedCmp          1094 non-null   float64\n",
      " 8   Income               1094 non-null   float64\n",
      " 9   Kidhome              1094 non-null   float64\n",
      " 10  Teenhome             1094 non-null   float64\n",
      " 11  Dt_Customer          1094 non-null   object \n",
      " 12  Recency              1094 non-null   float64\n",
      " 13  MntWines             1094 non-null   float64\n",
      " 14  MntFruits            1094 non-null   float64\n",
      " 15  MntMeatProducts      1094 non-null   float64\n",
      " 16  MntFishProducts      1094 non-null   float64\n",
      " 17  MntSweetProducts     1094 non-null   float64\n",
      " 18  MntGoldProds         1094 non-null   float64\n",
      " 19  NumDealsPurchases    1094 non-null   float64\n",
      " 20  NumWebPurchases      1094 non-null   float64\n",
      " 21  NumCatalogPurchases  1094 non-null   float64\n",
      " 22  NumStorePurchases    1094 non-null   float64\n",
      " 23  MntGroceryProducts   1094 non-null   float64\n",
      " 24  TotalPurchase        1094 non-null   float64\n",
      " 25  TotalChild           1094 non-null   float64\n",
      "dtypes: float64(23), object(3)\n",
      "memory usage: 461.5+ KB\n"
     ]
    }
   ],
   "source": [
    "test_data.info()"
   ]
  },
  {
   "cell_type": "code",
   "execution_count": 17,
   "id": "9bc83c21",
   "metadata": {},
   "outputs": [],
   "source": [
    "train_data.to_csv('dataset/new_train_data.csv')"
   ]
  },
  {
   "cell_type": "code",
   "execution_count": 18,
   "id": "5ccc3656",
   "metadata": {},
   "outputs": [],
   "source": [
    "test_data.to_csv('dataset/new_test_data.csv')"
   ]
  },
  {
   "cell_type": "code",
   "execution_count": null,
   "id": "df3f73ba",
   "metadata": {},
   "outputs": [],
   "source": []
  }
 ],
 "metadata": {
  "kernelspec": {
   "display_name": "Python 3 (ipykernel)",
   "language": "python",
   "name": "python3"
  },
  "language_info": {
   "codemirror_mode": {
    "name": "ipython",
    "version": 3
   },
   "file_extension": ".py",
   "mimetype": "text/x-python",
   "name": "python",
   "nbconvert_exporter": "python",
   "pygments_lexer": "ipython3",
   "version": "3.9.7"
  }
 },
 "nbformat": 4,
 "nbformat_minor": 5
}
