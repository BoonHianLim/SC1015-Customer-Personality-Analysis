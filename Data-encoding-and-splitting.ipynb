{
 "cells": [
  {
   "cell_type": "code",
   "execution_count": 17,
   "id": "81f6bf13",
   "metadata": {},
   "outputs": [],
   "source": [
    "import numpy as np\n",
    "import pandas as pd\n",
    "import seaborn as sb\n",
    "import matplotlib.pyplot as plt\n",
    "sb.set()\n",
    "from numpy import asarray\n",
    "from sklearn.preprocessing import OneHotEncoder\n",
    "\n",
    "customerData = pd.read_csv('dataset\\customerData_Clean.csv')"
   ]
  },
  {
   "cell_type": "code",
   "execution_count": 18,
   "id": "06fe47a7",
   "metadata": {},
   "outputs": [
    {
     "name": "stdout",
     "output_type": "stream",
     "text": [
      "Column of numerical data: ['Year_Birth', 'Income', 'Recency', 'MntWines', 'MntFruits', 'MntMeatProducts', 'MntFishProducts', 'MntSweetProducts', 'MntGoldProds', 'NumDealsPurchases', 'NumWebPurchases', 'NumCatalogPurchases', 'NumStorePurchases', 'NumWebVisitsMonth', 'MntGroceryProducts', 'TotalPurchase']\n",
      "\n",
      "Column of categorical data: ['Education', 'Marital_Status', 'Dt_Customer', 'YearRange', 'AcceptedCmp3', 'AcceptedCmp4', 'AcceptedCmp5', 'AcceptedCmp1', 'AcceptedCmp2', 'Complain', 'Response', 'Kidhome', 'Teenhome']\n"
     ]
    }
   ],
   "source": [
    "colOfNum = ['Year_Birth', 'Income', 'Recency', 'MntWines', 'MntFruits', 'MntMeatProducts', 'MntFishProducts', 'MntSweetProducts', 'MntGoldProds', 'NumDealsPurchases', 'NumWebPurchases', 'NumCatalogPurchases', 'NumStorePurchases', 'NumWebVisitsMonth', 'MntGroceryProducts', 'TotalPurchase']\n",
    "colOfCat = ['Education', 'Marital_Status', 'Dt_Customer', 'YearRange', 'AcceptedCmp3', 'AcceptedCmp4', 'AcceptedCmp5', 'AcceptedCmp1', 'AcceptedCmp2', 'Complain', 'Response', 'Kidhome', 'Teenhome']\n",
    "print(\"Column of numerical data:\",colOfNum)\n",
    "print()\n",
    "print(\"Column of categorical data:\",colOfCat)"
   ]
  },
  {
   "cell_type": "code",
   "execution_count": 43,
   "id": "b1b356b5",
   "metadata": {},
   "outputs": [],
   "source": [
    "from numpy import asarray\n",
    "from sklearn.preprocessing import OneHotEncoder\n",
    "\n",
    "# define one hot encoding\n",
    "encoder = OneHotEncoder(sparse=False)\n",
    "\n",
    "# initialise variables\n",
    "edu, ms, dtCus, yr, ac3, ac4, ac5, ac1, ac2, com, res, kid, teen =\\\n",
    "[pd.DataFrame(customerData[categories]) for categories in colOfCat]\n",
    "\n",
    "edu_dict, ms_dict, dtCus_dict, yr_dict, ac3_dict, ac4_dict,\\\n",
    "ac5_dict, ac1_dict, ac2_dict, com_dict, res_dict, kid_dict,\\\n",
    "teen_dict = {}, {}, {}, {}, {}, {}, {}, {}, {}, {}, {}, {}, {}\n",
    "\n",
    "var_list = [edu, ms, dtCus, yr, ac3, ac4, ac5, ac1, ac2, com, res, kid, teen]\n",
    "dict_list = [edu_dict, ms_dict, dtCus_dict, yr_dict, ac3_dict, ac4_dict,\\\n",
    "ac5_dict, ac1_dict, ac2_dict, com_dict, res_dict, kid_dict, teen_dict]\n",
    "\n",
    "\n",
    "def make_dict(a_dict, data, onehot):\n",
    "    for i in range(len(data)):\n",
    "        key = data[i][0]\n",
    "        value = onehot[i]\n",
    "        a_dict[key] = value\n",
    "\n",
    "def prepare_data(category):\n",
    "    category = category.squeeze()\n",
    "    category = pd.unique(category)\n",
    "    data = [[elements] for elements in category]\n",
    "    data = asarray(data)\n",
    "    return data\n",
    "\n",
    "for i in range(len(dict_list)):\n",
    "    data = prepare_data(var_list[i])\n",
    "    onehot = encoder.fit_transform(data)\n",
    "    make_dict(dict_list[i], data, onehot)"
   ]
  },
  {
   "cell_type": "code",
   "execution_count": null,
   "id": "9f854f1c",
   "metadata": {},
   "outputs": [],
   "source": []
  }
 ],
 "metadata": {
  "kernelspec": {
   "display_name": "Python 3 (ipykernel)",
   "language": "python",
   "name": "python3"
  },
  "language_info": {
   "codemirror_mode": {
    "name": "ipython",
    "version": 3
   },
   "file_extension": ".py",
   "mimetype": "text/x-python",
   "name": "python",
   "nbconvert_exporter": "python",
   "pygments_lexer": "ipython3",
   "version": "3.9.6"
  }
 },
 "nbformat": 4,
 "nbformat_minor": 5
}
