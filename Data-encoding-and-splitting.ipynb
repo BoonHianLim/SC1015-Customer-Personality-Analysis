{
 "cells": [
  {
   "cell_type": "code",
   "execution_count": 11,
   "id": "81f6bf13",
   "metadata": {},
   "outputs": [],
   "source": [
    "import numpy as np\n",
    "import pandas as pd\n",
    "import seaborn as sb\n",
    "import matplotlib.pyplot as plt\n",
    "sb.set()\n",
    "from numpy import asarray\n",
    "from sklearn.preprocessing import OneHotEncoder\n",
    "\n",
    "customerData = pd.read_csv('dataset\\customerData_Clean.csv')"
   ]
  },
  {
   "cell_type": "code",
   "execution_count": 12,
   "id": "06fe47a7",
   "metadata": {},
   "outputs": [
    {
     "name": "stdout",
     "output_type": "stream",
     "text": [
      "Column of numerical data: ['Year_Birth', 'Income', 'Recency', 'MntWines', 'MntFruits', 'MntMeatProducts', 'MntFishProducts', 'MntSweetProducts', 'MntGoldProds', 'NumDealsPurchases', 'NumWebPurchases', 'NumCatalogPurchases', 'NumStorePurchases', 'NumWebVisitsMonth', 'MntGroceryProducts', 'TotalPurchase']\n",
      "\n",
      "Column of categorical data: ['Education', 'Marital_Status', 'Dt_Customer', 'YearRange', 'AcceptedCmp3', 'AcceptedCmp4', 'AcceptedCmp5', 'AcceptedCmp1', 'AcceptedCmp2', 'Complain', 'Response', 'Kidhome', 'Teenhome']\n"
     ]
    }
   ],
   "source": [
    "colOfNum = ['Year_Birth', 'Income', 'Recency', 'MntWines', 'MntFruits', 'MntMeatProducts', 'MntFishProducts', 'MntSweetProducts', 'MntGoldProds', 'NumDealsPurchases', 'NumWebPurchases', 'NumCatalogPurchases', 'NumStorePurchases', 'NumWebVisitsMonth', 'MntGroceryProducts', 'TotalPurchase']\n",
    "colOfCat = ['Education', 'Marital_Status', 'Dt_Customer', 'YearRange', 'AcceptedCmp3', 'AcceptedCmp4', 'AcceptedCmp5', 'AcceptedCmp1', 'AcceptedCmp2', 'Complain', 'Response', 'Kidhome', 'Teenhome']\n",
    "print(\"Column of numerical data:\",colOfNum)\n",
    "print()\n",
    "print(\"Column of categorical data:\",colOfCat)"
   ]
  },
  {
   "cell_type": "markdown",
   "id": "e795c5c3",
   "metadata": {},
   "source": [
    "### One Hot Encoding of Categorical Variables"
   ]
  },
  {
   "cell_type": "code",
   "execution_count": 4,
   "id": "b1b356b5",
   "metadata": {},
   "outputs": [
    {
     "name": "stdout",
     "output_type": "stream",
     "text": [
      "{'Graduation': array([0., 0., 1., 0., 0.]), 'PhD': array([0., 0., 0., 0., 1.]), 'Master': array([0., 0., 0., 1., 0.]), 'Basic': array([0., 1., 0., 0., 0.]), '2n Cycle': array([1., 0., 0., 0., 0.])}\n"
     ]
    }
   ],
   "source": [
    "from numpy import asarray\n",
    "from sklearn.preprocessing import OneHotEncoder\n",
    "\n",
    "# define one hot encoding\n",
    "encoder = OneHotEncoder(sparse=False)\n",
    "\n",
    "# initialise variables\n",
    "edu, ms, dtCus, yrange, ac3, ac4, ac5, ac1, ac2, com, res, kid, teen =\\\n",
    "[pd.DataFrame(customerData[categories]) for categories in colOfCat]\n",
    "\n",
    "edu_dict, ms_dict, dtCus_dict, yrange_dict, ac3_dict, ac4_dict,\\\n",
    "ac5_dict, ac1_dict, ac2_dict, com_dict, res_dict, kid_dict,\\\n",
    "teen_dict = {}, {}, {}, {}, {}, {}, {}, {}, {}, {}, {}, {}, {}\n",
    "\n",
    "var_cat_list = [edu, ms, dtCus, yrange, ac3, ac4, ac5, ac1, ac2, com, res, kid, teen]\n",
    "dict_list = [edu_dict, ms_dict, dtCus_dict, yrange_dict, ac3_dict, ac4_dict,\\\n",
    "ac5_dict, ac1_dict, ac2_dict, com_dict, res_dict, kid_dict, teen_dict]\n",
    "\n",
    "\n",
    "def make_dict(a_dict, data, onehot):\n",
    "    for i in range(len(data)):\n",
    "        key = data[i][0]\n",
    "        value = onehot[i]\n",
    "        a_dict[key] = value\n",
    "\n",
    "def prepare_data(category):\n",
    "    category = category.squeeze()\n",
    "    category = pd.unique(category)\n",
    "    data = [[elements] for elements in category]\n",
    "    data = asarray(data)\n",
    "    return data\n",
    "\n",
    "for i in range(len(dict_list)):\n",
    "    data = prepare_data(var_cat_list[i])\n",
    "    onehot = encoder.fit_transform(data)\n",
    "    make_dict(dict_list[i], data, onehot)\n",
    "\n",
    "print(edu_dict)"
   ]
  },
  {
   "cell_type": "markdown",
   "id": "fba157cf",
   "metadata": {},
   "source": [
    "### Splitting the Train and Test sets for all variables"
   ]
  },
  {
   "cell_type": "code",
   "execution_count": 17,
   "id": "9f854f1c",
   "metadata": {},
   "outputs": [
    {
     "name": "stdout",
     "output_type": "stream",
     "text": [
      "32\n",
      "26\n"
     ]
    }
   ],
   "source": [
    "from sklearn.model_selection import train_test_split\n",
    "\n",
    "birth, inc, rec, wine, fruit, meat, fish, sweet, gold, deals, web, cat, store, webv, gro, tot  =\\\n",
    "[pd.DataFrame(customerData[categories]) for categories in colOfNum]\n",
    "\n",
    "var_num_list = [birth, inc, rec, wine, fruit, meat, fish, sweet, gold, deals,\\\n",
    "    web, cat, store, webv, gro, tot]\n",
    "\n",
    "huge_list1 = train_test_split(birth, inc, rec, wine, fruit, meat, fish, sweet, gold, deals,\\\n",
    "    web, cat, store, webv, gro, tot,\\\n",
    "    test_size = 0.20, random_state = 1)\n",
    "\n",
    "huge_list2 = train_test_split(edu, ms, dtCus, yrange, ac3, ac4, ac5, ac1,\\\n",
    "     ac2, com, res, kid, teen,\\\n",
    "    test_size = 0.20, random_state = 1)\n",
    "\n",
    "print(len(huge_list1))\n",
    "print(len(huge_list2))\n",
    "\n",
    "train_num = [huge_list1[i] for i in range(0, len(huge_list1), 2)]\n",
    "test_num = [huge_list1[i] for i in range(1, len(huge_list1), 2)]\n",
    "\n",
    "train_cat = [huge_list2[i] for i in range(0, len(huge_list2), 2)]\n",
    "test_cat = [huge_list2[i] for i in range(1, len(huge_list2), 2)]\n",
    "\n",
    "train = pd.concat(train_num + train_cat, axis = 1)\n",
    "test = pd.concat(test_num + test_cat, axis = 1)\n",
    "\n",
    "train.to_csv('dataset/train_data.csv')  \n",
    "test.to_csv('dataset/test_data.csv')  "
   ]
  },
  {
   "cell_type": "code",
   "execution_count": 28,
   "id": "a63d96e6",
   "metadata": {},
   "outputs": [
    {
     "name": "stdout",
     "output_type": "stream",
     "text": [
      "Index(['Unnamed: 0', 'Year_Birth', 'Education', 'Marital_Status', 'Income',\n",
      "       'Kidhome', 'Teenhome', 'Dt_Customer', 'Recency', 'MntWines',\n",
      "       'MntFruits', 'MntMeatProducts', 'MntFishProducts', 'MntSweetProducts',\n",
      "       'MntGoldProds', 'NumDealsPurchases', 'NumWebPurchases',\n",
      "       'NumCatalogPurchases', 'NumStorePurchases', 'NumWebVisitsMonth',\n",
      "       'AcceptedCmp3', 'AcceptedCmp4', 'AcceptedCmp5', 'AcceptedCmp1',\n",
      "       'AcceptedCmp2', 'Complain', 'Response', 'MntGroceryProducts',\n",
      "       'TotalPurchase', 'YearRange'],\n",
      "      dtype='object')\n",
      "0 "
     ]
    },
    {
     "ename": "KeyError",
     "evalue": "'Education'",
     "output_type": "error",
     "traceback": [
      "\u001b[1;31m---------------------------------------------------------------------------\u001b[0m",
      "\u001b[1;31mKeyError\u001b[0m                                  Traceback (most recent call last)",
      "\u001b[1;32mc:\\Users\\Muw\\Documents\\GitHub\\SC1015-Group9\\Data-encoding-and-splitting.ipynb Cell 7'\u001b[0m in \u001b[0;36m<cell line: 5>\u001b[1;34m()\u001b[0m\n\u001b[0;32m      <a href='vscode-notebook-cell:/c%3A/Users/Muw/Documents/GitHub/SC1015-Group9/Data-encoding-and-splitting.ipynb#ch0000007?line=6'>7</a>\u001b[0m col \u001b[39m=\u001b[39m colOfCat[i]\n\u001b[0;32m      <a href='vscode-notebook-cell:/c%3A/Users/Muw/Documents/GitHub/SC1015-Group9/Data-encoding-and-splitting.ipynb#ch0000007?line=7'>8</a>\u001b[0m \u001b[39mprint\u001b[39m(j, end \u001b[39m=\u001b[39m\u001b[39m\"\u001b[39m\u001b[39m \u001b[39m\u001b[39m\"\u001b[39m)\n\u001b[1;32m----> <a href='vscode-notebook-cell:/c%3A/Users/Muw/Documents/GitHub/SC1015-Group9/Data-encoding-and-splitting.ipynb#ch0000007?line=8'>9</a>\u001b[0m cc\u001b[39m.\u001b[39mloc[j, col] \u001b[39m=\u001b[39m dict_list[i][col]\n",
      "\u001b[1;31mKeyError\u001b[0m: 'Education'"
     ]
    }
   ],
   "source": [
    "cc = customerData.copy()\n",
    "\n",
    "print(cc.columns)\n",
    "\n",
    "for i in range (len(colOfCat)):\n",
    "    for j in range(len(cc)):\n",
    "        col = colOfCat[i]\n",
    "        print(j, end = \" \")\n",
    "        cc.loc[j, col] = dict_list[i][col]"
   ]
  },
  {
   "cell_type": "code",
   "execution_count": null,
   "id": "6a63f230",
   "metadata": {},
   "outputs": [],
   "source": []
  }
 ],
 "metadata": {
  "kernelspec": {
   "display_name": "Python 3 (ipykernel)",
   "language": "python",
   "name": "python3"
  },
  "language_info": {
   "codemirror_mode": {
    "name": "ipython",
    "version": 3
   },
   "file_extension": ".py",
   "mimetype": "text/x-python",
   "name": "python",
   "nbconvert_exporter": "python",
   "pygments_lexer": "ipython3",
   "version": "3.9.6"
  }
 },
 "nbformat": 4,
 "nbformat_minor": 5
}
